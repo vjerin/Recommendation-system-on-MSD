{
 "cells": [
  {
   "cell_type": "code",
   "execution_count": 4,
   "metadata": {
    "colab": {},
    "colab_type": "code",
    "id": "Ym39lzQsxs6v"
   },
   "outputs": [],
   "source": [
    "import numpy as np\n",
    "import pandas as pd\n",
    "import tensorflow as tf\n"
   ]
  },
  {
   "cell_type": "markdown",
   "metadata": {
    "colab": {},
    "colab_type": "code",
    "id": "atsSarfGxs63"
   },
   "source": [
    "# Song List\n",
    "\n",
    "   This file contains the information of all songs in the MSD dataset"
   ]
  },
  {
   "cell_type": "code",
   "execution_count": 5,
   "metadata": {
    "colab": {
     "base_uri": "https://localhost:8080/",
     "height": 202
    },
    "colab_type": "code",
    "id": "2d-Bps_lxs67",
    "outputId": "e321c354-95b7-414e-ce29-6970a271d4d7",
    "scrolled": true
   },
   "outputs": [
    {
     "data": {
      "text/html": [
       "<div>\n",
       "<style scoped>\n",
       "    .dataframe tbody tr th:only-of-type {\n",
       "        vertical-align: middle;\n",
       "    }\n",
       "\n",
       "    .dataframe tbody tr th {\n",
       "        vertical-align: top;\n",
       "    }\n",
       "\n",
       "    .dataframe thead th {\n",
       "        text-align: right;\n",
       "    }\n",
       "</style>\n",
       "<table border=\"1\" class=\"dataframe\">\n",
       "  <thead>\n",
       "    <tr style=\"text-align: right;\">\n",
       "      <th></th>\n",
       "      <th>song_id</th>\n",
       "      <th>title</th>\n",
       "      <th>release</th>\n",
       "      <th>artist_name</th>\n",
       "      <th>year</th>\n",
       "    </tr>\n",
       "  </thead>\n",
       "  <tbody>\n",
       "    <tr>\n",
       "      <th>0</th>\n",
       "      <td>SOQMMHC12AB0180CB8</td>\n",
       "      <td>Silent Night</td>\n",
       "      <td>Monster Ballads X-Mas</td>\n",
       "      <td>Faster Pussy cat</td>\n",
       "      <td>2003</td>\n",
       "    </tr>\n",
       "    <tr>\n",
       "      <th>1</th>\n",
       "      <td>SOVFVAK12A8C1350D9</td>\n",
       "      <td>Tanssi vaan</td>\n",
       "      <td>Karkuteillä</td>\n",
       "      <td>Karkkiautomaatti</td>\n",
       "      <td>1995</td>\n",
       "    </tr>\n",
       "    <tr>\n",
       "      <th>2</th>\n",
       "      <td>SOGTUKN12AB017F4F1</td>\n",
       "      <td>No One Could Ever</td>\n",
       "      <td>Butter</td>\n",
       "      <td>Hudson Mohawke</td>\n",
       "      <td>2006</td>\n",
       "    </tr>\n",
       "    <tr>\n",
       "      <th>3</th>\n",
       "      <td>SOBNYVR12A8C13558C</td>\n",
       "      <td>Si Vos Querés</td>\n",
       "      <td>De Culo</td>\n",
       "      <td>Yerba Brava</td>\n",
       "      <td>2003</td>\n",
       "    </tr>\n",
       "    <tr>\n",
       "      <th>4</th>\n",
       "      <td>SOHSBXH12A8C13B0DF</td>\n",
       "      <td>Tangle Of Aspens</td>\n",
       "      <td>Rene Ablaze Presents Winter Sessions</td>\n",
       "      <td>Der Mystic</td>\n",
       "      <td>0</td>\n",
       "    </tr>\n",
       "  </tbody>\n",
       "</table>\n",
       "</div>"
      ],
      "text/plain": [
       "              song_id              title  \\\n",
       "0  SOQMMHC12AB0180CB8       Silent Night   \n",
       "1  SOVFVAK12A8C1350D9        Tanssi vaan   \n",
       "2  SOGTUKN12AB017F4F1  No One Could Ever   \n",
       "3  SOBNYVR12A8C13558C      Si Vos Querés   \n",
       "4  SOHSBXH12A8C13B0DF   Tangle Of Aspens   \n",
       "\n",
       "                                release       artist_name  year  \n",
       "0                 Monster Ballads X-Mas  Faster Pussy cat  2003  \n",
       "1                           Karkuteillä  Karkkiautomaatti  1995  \n",
       "2                                Butter    Hudson Mohawke  2006  \n",
       "3                               De Culo       Yerba Brava  2003  \n",
       "4  Rene Ablaze Presents Winter Sessions        Der Mystic     0  "
      ]
     },
     "execution_count": 5,
     "metadata": {},
     "output_type": "execute_result"
    }
   ],
   "source": [
    "songs_list = pd.read_csv('song_data.csv')\n",
    "songs_list.head()"
   ]
  },
  {
   "cell_type": "markdown",
   "metadata": {},
   "source": [
    "# EDA\n",
    "\n",
    "  \n",
    "  "
   ]
  },
  {
   "cell_type": "code",
   "execution_count": 9,
   "metadata": {},
   "outputs": [
    {
     "name": "stdout",
     "output_type": "stream",
     "text": [
      "--2020-04-30 23:47:11--  https://static.turi.com/datasets/millionsong/10000.txt\n",
      "Resolving static.turi.com (static.turi.com)... 99.86.47.58, 99.86.47.112, 99.86.47.82, ...\n",
      "Connecting to static.turi.com (static.turi.com)|99.86.47.58|:443... connected.\n",
      "HTTP request sent, awaiting response... 200 OK\n",
      "Length: 124114908 (118M) [text/plain]\n",
      "Saving to: ‘10000.txt’\n",
      "\n",
      "10000.txt           100%[===================>] 118.36M  2.54MB/s    in 86s     \n",
      "\n",
      "2020-04-30 23:48:36 (1.38 MB/s) - ‘10000.txt’ saved [124114908/124114908]\n",
      "\n"
     ]
    }
   ],
   "source": [
    "!wget 'https://static.turi.com/datasets/millionsong/10000.txt'"
   ]
  },
  {
   "cell_type": "code",
   "execution_count": 10,
   "metadata": {
    "colab": {},
    "colab_type": "code",
    "id": "ZHl42DZkxs7A"
   },
   "outputs": [],
   "source": [
    "df=pd.read_table('10000.txt',header=None,names=['user_id', 'song_id', 'listen_count'])"
   ]
  },
  {
   "cell_type": "code",
   "execution_count": 11,
   "metadata": {
    "colab": {
     "base_uri": "https://localhost:8080/",
     "height": 202
    },
    "colab_type": "code",
    "id": "2N_64U4Fxs7E",
    "outputId": "4d0b3248-3444-4ba9-da6a-a9d653331815"
   },
   "outputs": [
    {
     "data": {
      "text/html": [
       "<div>\n",
       "<style scoped>\n",
       "    .dataframe tbody tr th:only-of-type {\n",
       "        vertical-align: middle;\n",
       "    }\n",
       "\n",
       "    .dataframe tbody tr th {\n",
       "        vertical-align: top;\n",
       "    }\n",
       "\n",
       "    .dataframe thead th {\n",
       "        text-align: right;\n",
       "    }\n",
       "</style>\n",
       "<table border=\"1\" class=\"dataframe\">\n",
       "  <thead>\n",
       "    <tr style=\"text-align: right;\">\n",
       "      <th></th>\n",
       "      <th>user_id</th>\n",
       "      <th>song_id</th>\n",
       "      <th>listen_count</th>\n",
       "    </tr>\n",
       "  </thead>\n",
       "  <tbody>\n",
       "    <tr>\n",
       "      <th>0</th>\n",
       "      <td>b80344d063b5ccb3212f76538f3d9e43d87dca9e</td>\n",
       "      <td>SOAKIMP12A8C130995</td>\n",
       "      <td>1</td>\n",
       "    </tr>\n",
       "    <tr>\n",
       "      <th>1</th>\n",
       "      <td>b80344d063b5ccb3212f76538f3d9e43d87dca9e</td>\n",
       "      <td>SOBBMDR12A8C13253B</td>\n",
       "      <td>2</td>\n",
       "    </tr>\n",
       "    <tr>\n",
       "      <th>2</th>\n",
       "      <td>b80344d063b5ccb3212f76538f3d9e43d87dca9e</td>\n",
       "      <td>SOBXHDL12A81C204C0</td>\n",
       "      <td>1</td>\n",
       "    </tr>\n",
       "    <tr>\n",
       "      <th>3</th>\n",
       "      <td>b80344d063b5ccb3212f76538f3d9e43d87dca9e</td>\n",
       "      <td>SOBYHAJ12A6701BF1D</td>\n",
       "      <td>1</td>\n",
       "    </tr>\n",
       "    <tr>\n",
       "      <th>4</th>\n",
       "      <td>b80344d063b5ccb3212f76538f3d9e43d87dca9e</td>\n",
       "      <td>SODACBL12A8C13C273</td>\n",
       "      <td>1</td>\n",
       "    </tr>\n",
       "  </tbody>\n",
       "</table>\n",
       "</div>"
      ],
      "text/plain": [
       "                                    user_id             song_id  listen_count\n",
       "0  b80344d063b5ccb3212f76538f3d9e43d87dca9e  SOAKIMP12A8C130995             1\n",
       "1  b80344d063b5ccb3212f76538f3d9e43d87dca9e  SOBBMDR12A8C13253B             2\n",
       "2  b80344d063b5ccb3212f76538f3d9e43d87dca9e  SOBXHDL12A81C204C0             1\n",
       "3  b80344d063b5ccb3212f76538f3d9e43d87dca9e  SOBYHAJ12A6701BF1D             1\n",
       "4  b80344d063b5ccb3212f76538f3d9e43d87dca9e  SODACBL12A8C13C273             1"
      ]
     },
     "execution_count": 11,
     "metadata": {},
     "output_type": "execute_result"
    }
   ],
   "source": [
    "df.head()"
   ]
  },
  {
   "cell_type": "code",
   "execution_count": 12,
   "metadata": {
    "colab": {
     "base_uri": "https://localhost:8080/",
     "height": 89
    },
    "colab_type": "code",
    "id": "WrOJ2SKtxs7I",
    "outputId": "f5babbd9-08a0-46ff-e48a-a22257ad7744"
   },
   "outputs": [
    {
     "data": {
      "text/plain": [
       "user_id         2000000\n",
       "song_id         2000000\n",
       "listen_count    2000000\n",
       "dtype: int64"
      ]
     },
     "execution_count": 12,
     "metadata": {},
     "output_type": "execute_result"
    }
   ],
   "source": [
    "df.count()"
   ]
  },
  {
   "cell_type": "code",
   "execution_count": 13,
   "metadata": {
    "colab": {
     "base_uri": "https://localhost:8080/",
     "height": 35
    },
    "colab_type": "code",
    "id": "DPxETHazxs7M",
    "outputId": "1cd12404-cc5c-47c7-d223-d564955b608f"
   },
   "outputs": [
    {
     "data": {
      "text/plain": [
       "2213"
      ]
     },
     "execution_count": 13,
     "metadata": {},
     "output_type": "execute_result"
    }
   ],
   "source": [
    "df.listen_count.max()"
   ]
  },
  {
   "cell_type": "markdown",
   "metadata": {
    "colab": {},
    "colab_type": "code",
    "id": "uAeaMo5Wxs7W"
   },
   "source": [
    "The first thing that we notice is that we have no concept of \"rating\" in our data. All we have are the play counts of various songs. This is a well known problem in the case of recommendation engines and is called the \"implicit feedback\" problem. There are many ways to solve this problem but we will look at a very simple and intuitive solution. We will replace the play count with a fractional play count. The logic being that this will measure the strength of \"likeness\" for a song in the range of [0,1]."
   ]
  },
  {
   "cell_type": "code",
   "execution_count": 14,
   "metadata": {
    "colab": {},
    "colab_type": "code",
    "id": "Wf-StyM4xs7a"
   },
   "outputs": [],
   "source": [
    "user_total_listen = df[['user_id','listen_count']].groupby('user_id').sum()\n",
    "user_total_listen.rename(columns={'listen_count':'total_listen_count'},inplace=True)\n",
    "df_merged = pd.merge(df,user_total_listen, how = 'left', on = 'user_id')\n",
    "df_merged['frac_rating'] = (df_merged['listen_count']/df_merged['total_listen_count'])*100"
   ]
  },
  {
   "cell_type": "code",
   "execution_count": 15,
   "metadata": {
    "colab": {
     "base_uri": "https://localhost:8080/",
     "height": 435
    },
    "colab_type": "code",
    "id": "n_LUrFKtxs7e",
    "outputId": "77938b3a-423f-4850-8415-f17dbfb3a158"
   },
   "outputs": [
    {
     "data": {
      "text/html": [
       "<div>\n",
       "<style scoped>\n",
       "    .dataframe tbody tr th:only-of-type {\n",
       "        vertical-align: middle;\n",
       "    }\n",
       "\n",
       "    .dataframe tbody tr th {\n",
       "        vertical-align: top;\n",
       "    }\n",
       "\n",
       "    .dataframe thead th {\n",
       "        text-align: right;\n",
       "    }\n",
       "</style>\n",
       "<table border=\"1\" class=\"dataframe\">\n",
       "  <thead>\n",
       "    <tr style=\"text-align: right;\">\n",
       "      <th></th>\n",
       "      <th>user_id</th>\n",
       "      <th>song_id</th>\n",
       "      <th>listen_count</th>\n",
       "      <th>total_listen_count</th>\n",
       "      <th>frac_rating</th>\n",
       "    </tr>\n",
       "  </thead>\n",
       "  <tbody>\n",
       "    <tr>\n",
       "      <th>0</th>\n",
       "      <td>b80344d063b5ccb3212f76538f3d9e43d87dca9e</td>\n",
       "      <td>SOAKIMP12A8C130995</td>\n",
       "      <td>1</td>\n",
       "      <td>71</td>\n",
       "      <td>1.408451</td>\n",
       "    </tr>\n",
       "    <tr>\n",
       "      <th>1</th>\n",
       "      <td>b80344d063b5ccb3212f76538f3d9e43d87dca9e</td>\n",
       "      <td>SOBBMDR12A8C13253B</td>\n",
       "      <td>2</td>\n",
       "      <td>71</td>\n",
       "      <td>2.816901</td>\n",
       "    </tr>\n",
       "    <tr>\n",
       "      <th>2</th>\n",
       "      <td>b80344d063b5ccb3212f76538f3d9e43d87dca9e</td>\n",
       "      <td>SOBXHDL12A81C204C0</td>\n",
       "      <td>1</td>\n",
       "      <td>71</td>\n",
       "      <td>1.408451</td>\n",
       "    </tr>\n",
       "    <tr>\n",
       "      <th>3</th>\n",
       "      <td>b80344d063b5ccb3212f76538f3d9e43d87dca9e</td>\n",
       "      <td>SOBYHAJ12A6701BF1D</td>\n",
       "      <td>1</td>\n",
       "      <td>71</td>\n",
       "      <td>1.408451</td>\n",
       "    </tr>\n",
       "    <tr>\n",
       "      <th>4</th>\n",
       "      <td>b80344d063b5ccb3212f76538f3d9e43d87dca9e</td>\n",
       "      <td>SODACBL12A8C13C273</td>\n",
       "      <td>1</td>\n",
       "      <td>71</td>\n",
       "      <td>1.408451</td>\n",
       "    </tr>\n",
       "    <tr>\n",
       "      <th>...</th>\n",
       "      <td>...</td>\n",
       "      <td>...</td>\n",
       "      <td>...</td>\n",
       "      <td>...</td>\n",
       "      <td>...</td>\n",
       "    </tr>\n",
       "    <tr>\n",
       "      <th>1999995</th>\n",
       "      <td>d8bfd4ec88f0f3773a9e022e3c1a0f1d3b7b6a92</td>\n",
       "      <td>SOJEYPO12AAA8C6B0E</td>\n",
       "      <td>2</td>\n",
       "      <td>128</td>\n",
       "      <td>1.562500</td>\n",
       "    </tr>\n",
       "    <tr>\n",
       "      <th>1999996</th>\n",
       "      <td>d8bfd4ec88f0f3773a9e022e3c1a0f1d3b7b6a92</td>\n",
       "      <td>SOJJYDE12AF729FC16</td>\n",
       "      <td>4</td>\n",
       "      <td>128</td>\n",
       "      <td>3.125000</td>\n",
       "    </tr>\n",
       "    <tr>\n",
       "      <th>1999997</th>\n",
       "      <td>d8bfd4ec88f0f3773a9e022e3c1a0f1d3b7b6a92</td>\n",
       "      <td>SOJKQSF12A6D4F5EE9</td>\n",
       "      <td>3</td>\n",
       "      <td>128</td>\n",
       "      <td>2.343750</td>\n",
       "    </tr>\n",
       "    <tr>\n",
       "      <th>1999998</th>\n",
       "      <td>d8bfd4ec88f0f3773a9e022e3c1a0f1d3b7b6a92</td>\n",
       "      <td>SOJUXGA12AC961885C</td>\n",
       "      <td>1</td>\n",
       "      <td>128</td>\n",
       "      <td>0.781250</td>\n",
       "    </tr>\n",
       "    <tr>\n",
       "      <th>1999999</th>\n",
       "      <td>d8bfd4ec88f0f3773a9e022e3c1a0f1d3b7b6a92</td>\n",
       "      <td>SOJYOLS12A8C13C06F</td>\n",
       "      <td>1</td>\n",
       "      <td>128</td>\n",
       "      <td>0.781250</td>\n",
       "    </tr>\n",
       "  </tbody>\n",
       "</table>\n",
       "<p>2000000 rows × 5 columns</p>\n",
       "</div>"
      ],
      "text/plain": [
       "                                          user_id             song_id  \\\n",
       "0        b80344d063b5ccb3212f76538f3d9e43d87dca9e  SOAKIMP12A8C130995   \n",
       "1        b80344d063b5ccb3212f76538f3d9e43d87dca9e  SOBBMDR12A8C13253B   \n",
       "2        b80344d063b5ccb3212f76538f3d9e43d87dca9e  SOBXHDL12A81C204C0   \n",
       "3        b80344d063b5ccb3212f76538f3d9e43d87dca9e  SOBYHAJ12A6701BF1D   \n",
       "4        b80344d063b5ccb3212f76538f3d9e43d87dca9e  SODACBL12A8C13C273   \n",
       "...                                           ...                 ...   \n",
       "1999995  d8bfd4ec88f0f3773a9e022e3c1a0f1d3b7b6a92  SOJEYPO12AAA8C6B0E   \n",
       "1999996  d8bfd4ec88f0f3773a9e022e3c1a0f1d3b7b6a92  SOJJYDE12AF729FC16   \n",
       "1999997  d8bfd4ec88f0f3773a9e022e3c1a0f1d3b7b6a92  SOJKQSF12A6D4F5EE9   \n",
       "1999998  d8bfd4ec88f0f3773a9e022e3c1a0f1d3b7b6a92  SOJUXGA12AC961885C   \n",
       "1999999  d8bfd4ec88f0f3773a9e022e3c1a0f1d3b7b6a92  SOJYOLS12A8C13C06F   \n",
       "\n",
       "         listen_count  total_listen_count  frac_rating  \n",
       "0                   1                  71     1.408451  \n",
       "1                   2                  71     2.816901  \n",
       "2                   1                  71     1.408451  \n",
       "3                   1                  71     1.408451  \n",
       "4                   1                  71     1.408451  \n",
       "...               ...                 ...          ...  \n",
       "1999995             2                 128     1.562500  \n",
       "1999996             4                 128     3.125000  \n",
       "1999997             3                 128     2.343750  \n",
       "1999998             1                 128     0.781250  \n",
       "1999999             1                 128     0.781250  \n",
       "\n",
       "[2000000 rows x 5 columns]"
      ]
     },
     "metadata": {},
     "output_type": "display_data"
    }
   ],
   "source": [
    " display(df_merged)"
   ]
  },
  {
   "cell_type": "code",
   "execution_count": 16,
   "metadata": {
    "colab": {},
    "colab_type": "code",
    "id": "RTUnxo8Xxs7m"
   },
   "outputs": [],
   "source": [
    "u_users = df_merged.user_id.unique()\n",
    "u_songs = df_merged.song_id.unique()"
   ]
  },
  {
   "cell_type": "code",
   "execution_count": 17,
   "metadata": {
    "colab": {
     "base_uri": "https://localhost:8080/",
     "height": 143
    },
    "colab_type": "code",
    "id": "sxX_8II4xs7o",
    "outputId": "6b4857d5-318a-4e08-8912-be5c2adcd7e4"
   },
   "outputs": [
    {
     "name": "stdout",
     "output_type": "stream",
     "text": [
      "(76353,)\n"
     ]
    },
    {
     "data": {
      "text/plain": [
       "array(['b80344d063b5ccb3212f76538f3d9e43d87dca9e',\n",
       "       '85c1f87fea955d09b4bec2e36aee110927aedf9a',\n",
       "       'bd4c6e843f00bd476847fb75c47b4fb430a06856', ...,\n",
       "       'a955513fb89fdb0d5e8437a5cf8a9b3a0abad4d5',\n",
       "       '276e43ad698705e5011e5091f367d951b21246f5',\n",
       "       'd8bfd4ec88f0f3773a9e022e3c1a0f1d3b7b6a92'], dtype=object)"
      ]
     },
     "execution_count": 17,
     "metadata": {},
     "output_type": "execute_result"
    }
   ],
   "source": [
    "print(u_users.shape)\n",
    "u_users"
   ]
  },
  {
   "cell_type": "code",
   "execution_count": 18,
   "metadata": {
    "colab": {
     "base_uri": "https://localhost:8080/",
     "height": 89
    },
    "colab_type": "code",
    "id": "-6PCH63gxs7r",
    "outputId": "2a0e71e2-be64-4484-d5fa-4a591e0a1ae7"
   },
   "outputs": [
    {
     "name": "stdout",
     "output_type": "stream",
     "text": [
      "(10000,)\n"
     ]
    },
    {
     "data": {
      "text/plain": [
       "array(['SOAKIMP12A8C130995', 'SOBBMDR12A8C13253B', 'SOBXHDL12A81C204C0',\n",
       "       ..., 'SOXWEPM12AB0181694', 'SOGYQGZ12AB017E08A',\n",
       "       'SOPBPHJ12AAF3B59B6'], dtype=object)"
      ]
     },
     "execution_count": 18,
     "metadata": {},
     "output_type": "execute_result"
    }
   ],
   "source": [
    "print(u_songs.shape)\n",
    "u_songs"
   ]
  },
  {
   "cell_type": "code",
   "execution_count": 19,
   "metadata": {
    "colab": {},
    "colab_type": "code",
    "id": "Uo0jmU10FenZ"
   },
   "outputs": [],
   "source": [
    "df2 = df_merged[['user_id','song_id','frac_rating']].copy()"
   ]
  },
  {
   "cell_type": "code",
   "execution_count": 20,
   "metadata": {
    "colab": {
     "base_uri": "https://localhost:8080/",
     "height": 448
    },
    "colab_type": "code",
    "id": "b3TP8eNCxs7v",
    "outputId": "11d84601-a545-4af3-d304-e6ee4570668e"
   },
   "outputs": [],
   "source": [
    "\n",
    "\n",
    "from sklearn.preprocessing import LabelEncoder\n",
    "\n",
    "le1 = LabelEncoder()\n",
    "le2 = LabelEncoder()\n",
    "\n",
    "le1.fit(u_users)\n",
    "le2.fit(u_songs)\n",
    "\n",
    "\n",
    "df2.user_id = le1.transform(df2.user_id)\n",
    "df2.song_id = le2.transform(df2.song_id)\n",
    "\n"
   ]
  },
  {
   "cell_type": "code",
   "execution_count": 21,
   "metadata": {
    "colab": {},
    "colab_type": "code",
    "id": "F0zc_tY84boQ"
   },
   "outputs": [],
   "source": [
    "u_songs_t = le2.transform(u_songs)"
   ]
  },
  {
   "cell_type": "code",
   "execution_count": 22,
   "metadata": {
    "colab": {
     "base_uri": "https://localhost:8080/",
     "height": 296
    },
    "colab_type": "code",
    "id": "Q-LpghEkDkb2",
    "outputId": "6c5d1490-ffcd-4497-d6f3-4bff07004e58"
   },
   "outputs": [
    {
     "data": {
      "text/plain": [
       "[<matplotlib.lines.Line2D at 0x7fe4fb61f850>]"
      ]
     },
     "execution_count": 22,
     "metadata": {},
     "output_type": "execute_result"
    },
    {
     "data": {
      "image/png": "[encoded data removed]",
      "text/plain": [
       "<Figure size 432x288 with 1 Axes>"
      ]
     },
     "metadata": {
      "needs_background": "light"
     },
     "output_type": "display_data"
    }
   ],
   "source": [
    "import matplotlib.pyplot as plt\n",
    "\n",
    "\n",
    "plt.figure()\n",
    "plt.plot(df2.frac_rating,'b.')"
   ]
  },
  {
   "cell_type": "code",
   "execution_count": 23,
   "metadata": {
    "colab": {
     "base_uri": "https://localhost:8080/",
     "height": 53
    },
    "colab_type": "code",
    "id": "VkbLRWGkEdce",
    "outputId": "2999e666-4c6e-4021-e5bf-9ba87107d160"
   },
   "outputs": [
    {
     "name": "stdout",
     "output_type": "stream",
     "text": [
      "max=  100.0\n",
      "min=  0.022593764121102578\n"
     ]
    }
   ],
   "source": [
    "max_rating = df2.frac_rating.max()\n",
    "min_rating = df2.frac_rating.min()\n",
    "\n",
    "print(\"max= \",max_rating)\n",
    "print(\"min= \",min_rating)"
   ]
  },
  {
   "cell_type": "code",
   "execution_count": 24,
   "metadata": {
    "colab": {
     "base_uri": "https://localhost:8080/",
     "height": 202
    },
    "colab_type": "code",
    "id": "nfTRUEb4xs7x",
    "outputId": "88e12464-407d-4790-adc3-a5567ce4f589"
   },
   "outputs": [
    {
     "data": {
      "text/html": [
       "<div>\n",
       "<style scoped>\n",
       "    .dataframe tbody tr th:only-of-type {\n",
       "        vertical-align: middle;\n",
       "    }\n",
       "\n",
       "    .dataframe tbody tr th {\n",
       "        vertical-align: top;\n",
       "    }\n",
       "\n",
       "    .dataframe thead th {\n",
       "        text-align: right;\n",
       "    }\n",
       "</style>\n",
       "<table border=\"1\" class=\"dataframe\">\n",
       "  <thead>\n",
       "    <tr style=\"text-align: right;\">\n",
       "      <th></th>\n",
       "      <th>user_id</th>\n",
       "      <th>song_id</th>\n",
       "      <th>frac_rating</th>\n",
       "    </tr>\n",
       "  </thead>\n",
       "  <tbody>\n",
       "    <tr>\n",
       "      <th>0</th>\n",
       "      <td>54961</td>\n",
       "      <td>153</td>\n",
       "      <td>1.408451</td>\n",
       "    </tr>\n",
       "    <tr>\n",
       "      <th>1</th>\n",
       "      <td>54961</td>\n",
       "      <td>413</td>\n",
       "      <td>2.816901</td>\n",
       "    </tr>\n",
       "    <tr>\n",
       "      <th>2</th>\n",
       "      <td>54961</td>\n",
       "      <td>736</td>\n",
       "      <td>1.408451</td>\n",
       "    </tr>\n",
       "    <tr>\n",
       "      <th>3</th>\n",
       "      <td>54961</td>\n",
       "      <td>750</td>\n",
       "      <td>1.408451</td>\n",
       "    </tr>\n",
       "    <tr>\n",
       "      <th>4</th>\n",
       "      <td>54961</td>\n",
       "      <td>1188</td>\n",
       "      <td>1.408451</td>\n",
       "    </tr>\n",
       "  </tbody>\n",
       "</table>\n",
       "</div>"
      ],
      "text/plain": [
       "   user_id  song_id  frac_rating\n",
       "0    54961      153     1.408451\n",
       "1    54961      413     2.816901\n",
       "2    54961      736     1.408451\n",
       "3    54961      750     1.408451\n",
       "4    54961     1188     1.408451"
      ]
     },
     "execution_count": 24,
     "metadata": {},
     "output_type": "execute_result"
    }
   ],
   "source": [
    "df2.head()"
   ]
  },
  {
   "cell_type": "markdown",
   "metadata": {},
   "source": [
    "# Train and Test Split"
   ]
  },
  {
   "cell_type": "code",
   "execution_count": 25,
   "metadata": {
    "colab": {},
    "colab_type": "code",
    "id": "wk3dyJQcxs70"
   },
   "outputs": [],
   "source": [
    "from sklearn.model_selection import train_test_split\n",
    "\n",
    "train_df,test_df = train_test_split(df2 ,test_size = 0.2, random_state = 3)\n"
   ]
  },
  {
   "cell_type": "code",
   "execution_count": 26,
   "metadata": {
    "colab": {
     "base_uri": "https://localhost:8080/",
     "height": 387
    },
    "colab_type": "code",
    "id": "6BBPVmWExs72",
    "outputId": "ccf67b93-b13a-4bfe-929a-5f6340e069b3"
   },
   "outputs": [
    {
     "data": {
      "text/html": [
       "<div>\n",
       "<style scoped>\n",
       "    .dataframe tbody tr th:only-of-type {\n",
       "        vertical-align: middle;\n",
       "    }\n",
       "\n",
       "    .dataframe tbody tr th {\n",
       "        vertical-align: top;\n",
       "    }\n",
       "\n",
       "    .dataframe thead th {\n",
       "        text-align: right;\n",
       "    }\n",
       "</style>\n",
       "<table border=\"1\" class=\"dataframe\">\n",
       "  <thead>\n",
       "    <tr style=\"text-align: right;\">\n",
       "      <th></th>\n",
       "      <th>user_id</th>\n",
       "      <th>song_id</th>\n",
       "      <th>frac_rating</th>\n",
       "    </tr>\n",
       "  </thead>\n",
       "  <tbody>\n",
       "    <tr>\n",
       "      <th>997647</th>\n",
       "      <td>25920</td>\n",
       "      <td>1664</td>\n",
       "      <td>0.803213</td>\n",
       "    </tr>\n",
       "    <tr>\n",
       "      <th>31026</th>\n",
       "      <td>36300</td>\n",
       "      <td>8138</td>\n",
       "      <td>1.418440</td>\n",
       "    </tr>\n",
       "    <tr>\n",
       "      <th>1230674</th>\n",
       "      <td>47171</td>\n",
       "      <td>3991</td>\n",
       "      <td>0.352113</td>\n",
       "    </tr>\n",
       "    <tr>\n",
       "      <th>50783</th>\n",
       "      <td>16369</td>\n",
       "      <td>7416</td>\n",
       "      <td>10.743802</td>\n",
       "    </tr>\n",
       "    <tr>\n",
       "      <th>91956</th>\n",
       "      <td>330</td>\n",
       "      <td>8961</td>\n",
       "      <td>0.380228</td>\n",
       "    </tr>\n",
       "  </tbody>\n",
       "</table>\n",
       "</div>"
      ],
      "text/plain": [
       "         user_id  song_id  frac_rating\n",
       "997647     25920     1664     0.803213\n",
       "31026      36300     8138     1.418440\n",
       "1230674    47171     3991     0.352113\n",
       "50783      16369     7416    10.743802\n",
       "91956        330     8961     0.380228"
      ]
     },
     "metadata": {},
     "output_type": "display_data"
    },
    {
     "data": {
      "text/html": [
       "<div>\n",
       "<style scoped>\n",
       "    .dataframe tbody tr th:only-of-type {\n",
       "        vertical-align: middle;\n",
       "    }\n",
       "\n",
       "    .dataframe tbody tr th {\n",
       "        vertical-align: top;\n",
       "    }\n",
       "\n",
       "    .dataframe thead th {\n",
       "        text-align: right;\n",
       "    }\n",
       "</style>\n",
       "<table border=\"1\" class=\"dataframe\">\n",
       "  <thead>\n",
       "    <tr style=\"text-align: right;\">\n",
       "      <th></th>\n",
       "      <th>user_id</th>\n",
       "      <th>song_id</th>\n",
       "      <th>frac_rating</th>\n",
       "    </tr>\n",
       "  </thead>\n",
       "  <tbody>\n",
       "    <tr>\n",
       "      <th>265057</th>\n",
       "      <td>55450</td>\n",
       "      <td>174</td>\n",
       "      <td>5.844846</td>\n",
       "    </tr>\n",
       "    <tr>\n",
       "      <th>812837</th>\n",
       "      <td>48654</td>\n",
       "      <td>4064</td>\n",
       "      <td>3.636364</td>\n",
       "    </tr>\n",
       "    <tr>\n",
       "      <th>430100</th>\n",
       "      <td>11365</td>\n",
       "      <td>1863</td>\n",
       "      <td>0.520833</td>\n",
       "    </tr>\n",
       "    <tr>\n",
       "      <th>1780104</th>\n",
       "      <td>49493</td>\n",
       "      <td>5176</td>\n",
       "      <td>0.380228</td>\n",
       "    </tr>\n",
       "    <tr>\n",
       "      <th>1743551</th>\n",
       "      <td>15572</td>\n",
       "      <td>1566</td>\n",
       "      <td>4.166667</td>\n",
       "    </tr>\n",
       "  </tbody>\n",
       "</table>\n",
       "</div>"
      ],
      "text/plain": [
       "         user_id  song_id  frac_rating\n",
       "265057     55450      174     5.844846\n",
       "812837     48654     4064     3.636364\n",
       "430100     11365     1863     0.520833\n",
       "1780104    49493     5176     0.380228\n",
       "1743551    15572     1566     4.166667"
      ]
     },
     "metadata": {},
     "output_type": "display_data"
    }
   ],
   "source": [
    "display(train_df.head())\n",
    "display(test_df.head())\n"
   ]
  },
  {
   "cell_type": "markdown",
   "metadata": {
    "colab": {},
    "colab_type": "code",
    "id": "U4_vl4Z2xs77"
   },
   "source": [
    "# Training the model\n"
   ]
  },
  {
   "cell_type": "code",
   "execution_count": 27,
   "metadata": {
    "colab": {},
    "colab_type": "code",
    "id": "Du7it-oMxs7-"
   },
   "outputs": [],
   "source": [
    "\n",
    "from tensorflow.keras.callbacks import Callback, EarlyStopping, ModelCheckpoint\n",
    "from tensorflow.keras.layers import Flatten, Concatenate ,Embedding, Input ,Activation,Dense , Dropout, BatchNormalization\n",
    "\n",
    "from tensorflow.keras.models import Model\n",
    "\n",
    "def CFmodel(n_users, m_songs):\n",
    "    \n",
    "    U = Input(shape = [1] ,name = 'user-input')\n",
    "    P = Embedding(n_users,150 , name = 'user-emb')(U)\n",
    "    P = Flatten(name = 'user-flatten')(P)\n",
    "    \n",
    "    \n",
    "    S= Input(shape = [1] ,name = 'song-input')\n",
    "    Q = Embedding(m_songs,150 ,name = 'song-emb')(S)\n",
    "    Q = Flatten(name = 'song-flatten')(Q)\n",
    "    \n",
    "\n",
    "    X = Concatenate(name = 'merge-cat')([P,Q])\n",
    "    X = Dropout(rate = 0.05, name = 'drop1')(X)\n",
    "    X = Dense(units = 10,activation = 'relu', name = 'dense1' )(X)\n",
    "    X = Dropout(rate = 0.5, name = 'drop2')(X)\n",
    "    X = Dense(units = 1, name = 'dense2')(X)\n",
    "    X = Activation('relu',name = 'activation')(X)\n",
    "    X = X*(max_rating - min_rating) + min_rating\n",
    "\n",
    "\n",
    "    model = Model(inputs = [U,S] ,outputs = X)\n",
    "      \n",
    "    return model\n",
    "\n",
    "\n",
    "\n",
    " "
   ]
  },
  {
   "cell_type": "code",
   "execution_count": 20,
   "metadata": {
    "colab": {
     "base_uri": "https://localhost:8080/",
     "height": 35
    },
    "colab_type": "code",
    "id": "VrHedMALzBlP",
    "outputId": "15602f8a-54db-4a12-a3bb-bc918e56f4c5"
   },
   "outputs": [
    {
     "name": "stdout",
     "output_type": "stream",
     "text": [
      "Num GPUs Available:  1\n"
     ]
    }
   ],
   "source": [
    "\n",
    "print(\"Num GPUs Available: \", len(tf.config.experimental.list_physical_devices('GPU')))"
   ]
  },
  {
   "cell_type": "markdown",
   "metadata": {},
   "source": [
    "The model is complied using mean absolute error and nadam optimizer.\n",
    "Nadam stands for Nesterov Adam optimizer.\n",
    "Much like Adam is essentially RMSprop with momentum, Nadam is RMSprop with Nesterov momentum."
   ]
  },
  {
   "cell_type": "code",
   "execution_count": 0,
   "metadata": {
    "colab": {},
    "colab_type": "code",
    "id": "W8R6fRcqxs8D"
   },
   "outputs": [],
   "source": [
    "\n",
    "\n",
    "\n",
    "strategy = tf.distribute.OneDeviceStrategy(device=\"/gpu:0\")\n",
    "\n",
    "with strategy.scope():\n",
    "  cfm = CFmodel(u_users.shape[0],u_songs.shape[0])\n",
    "  cfm.compile(loss = 'mae' ,optimizer = 'nadam')"
   ]
  },
  {
   "cell_type": "code",
   "execution_count": 22,
   "metadata": {
    "colab": {
     "base_uri": "https://localhost:8080/",
     "height": 683
    },
    "colab_type": "code",
    "id": "XOmlVsPSxs8N",
    "outputId": "542ffeb4-769e-4057-a2a7-bf1d9420754d"
   },
   "outputs": [
    {
     "name": "stdout",
     "output_type": "stream",
     "text": [
      "Model: \"model\"\n",
      "__________________________________________________________________________________________________\n",
      "Layer (type)                    Output Shape         Param #     Connected to                     \n",
      "==================================================================================================\n",
      "user-input (InputLayer)         [(None, 1)]          0                                            \n",
      "__________________________________________________________________________________________________\n",
      "song-input (InputLayer)         [(None, 1)]          0                                            \n",
      "__________________________________________________________________________________________________\n",
      "user-emb (Embedding)            (None, 1, 150)       11452950    user-input[0][0]                 \n",
      "__________________________________________________________________________________________________\n",
      "song-emb (Embedding)            (None, 1, 150)       1500000     song-input[0][0]                 \n",
      "__________________________________________________________________________________________________\n",
      "user-flatten (Flatten)          (None, 150)          0           user-emb[0][0]                   \n",
      "__________________________________________________________________________________________________\n",
      "song-flatten (Flatten)          (None, 150)          0           song-emb[0][0]                   \n",
      "__________________________________________________________________________________________________\n",
      "merge-cat (Concatenate)         (None, 300)          0           user-flatten[0][0]               \n",
      "                                                                 song-flatten[0][0]               \n",
      "__________________________________________________________________________________________________\n",
      "drop1 (Dropout)                 (None, 300)          0           merge-cat[0][0]                  \n",
      "__________________________________________________________________________________________________\n",
      "dense1 (Dense)                  (None, 10)           3010        drop1[0][0]                      \n",
      "__________________________________________________________________________________________________\n",
      "drop2 (Dropout)                 (None, 10)           0           dense1[0][0]                     \n",
      "__________________________________________________________________________________________________\n",
      "dense2 (Dense)                  (None, 1)            11          drop2[0][0]                      \n",
      "__________________________________________________________________________________________________\n",
      "activation (Activation)         (None, 1)            0           dense2[0][0]                     \n",
      "__________________________________________________________________________________________________\n",
      "tf_op_layer_Mul (TensorFlowOpLa [(None, 1)]          0           activation[0][0]                 \n",
      "__________________________________________________________________________________________________\n",
      "tf_op_layer_AddV2 (TensorFlowOp [(None, 1)]          0           tf_op_layer_Mul[0][0]            \n",
      "==================================================================================================\n",
      "Total params: 12,955,971\n",
      "Trainable params: 12,955,971\n",
      "Non-trainable params: 0\n",
      "__________________________________________________________________________________________________\n"
     ]
    }
   ],
   "source": [
    "cfm.summary()"
   ]
  },
  {
   "cell_type": "code",
   "execution_count": 23,
   "metadata": {
    "colab": {
     "base_uri": "https://localhost:8080/",
     "height": 1000
    },
    "colab_type": "code",
    "id": "to9uSl2axs8Q",
    "outputId": "9b89c447-6c4a-48b3-c73a-7870c878f252"
   },
   "outputs": [
    {
     "name": "stdout",
     "output_type": "stream",
     "text": [
      "Epoch 1/50\n",
      "1440/1440 [==============================] - 17s 12ms/step - loss: 2.6938 - val_loss: 2.2549\n",
      "Epoch 2/50\n",
      "1440/1440 [==============================] - 17s 12ms/step - loss: 2.3189 - val_loss: 2.1518\n",
      "Epoch 3/50\n",
      "1440/1440 [==============================] - 16s 11ms/step - loss: 2.2259 - val_loss: 2.1112\n",
      "Epoch 4/50\n",
      "1440/1440 [==============================] - 16s 11ms/step - loss: 2.1820 - val_loss: 2.0771\n",
      "Epoch 5/50\n",
      "1440/1440 [==============================] - 16s 11ms/step - loss: 2.1505 - val_loss: 2.0594\n",
      "Epoch 6/50\n",
      "1440/1440 [==============================] - 16s 11ms/step - loss: 2.1284 - val_loss: 2.0421\n",
      "Epoch 7/50\n",
      "1440/1440 [==============================] - 16s 11ms/step - loss: 2.1129 - val_loss: 2.0449\n",
      "Epoch 8/50\n",
      "1440/1440 [==============================] - 16s 11ms/step - loss: 2.1018 - val_loss: 2.0273\n",
      "Epoch 9/50\n",
      "1440/1440 [==============================] - 16s 11ms/step - loss: 2.0919 - val_loss: 2.0266\n",
      "Epoch 10/50\n",
      "1440/1440 [==============================] - 16s 11ms/step - loss: 2.0859 - val_loss: 2.0371\n",
      "Epoch 11/50\n",
      "1440/1440 [==============================] - 16s 11ms/step - loss: 2.0807 - val_loss: 2.0192\n",
      "Epoch 12/50\n",
      "1440/1440 [==============================] - 15s 11ms/step - loss: 2.0746 - val_loss: 2.0309\n",
      "Epoch 13/50\n",
      "1440/1440 [==============================] - 16s 11ms/step - loss: 2.0675 - val_loss: 2.0135\n",
      "Epoch 14/50\n",
      "1440/1440 [==============================] - 15s 11ms/step - loss: 2.0636 - val_loss: 2.0164\n",
      "Epoch 15/50\n",
      "1440/1440 [==============================] - 16s 11ms/step - loss: 2.0613 - val_loss: 2.0135\n",
      "Epoch 16/50\n",
      "1440/1440 [==============================] - 15s 11ms/step - loss: 2.0583 - val_loss: 2.0146\n",
      "Epoch 17/50\n",
      "1440/1440 [==============================] - 16s 11ms/step - loss: 2.0535 - val_loss: 2.0145\n",
      "Epoch 18/50\n",
      "1440/1440 [==============================] - 16s 11ms/step - loss: 2.0538 - val_loss: 2.0154\n",
      "Epoch 19/50\n",
      "1440/1440 [==============================] - 16s 11ms/step - loss: 2.0519 - val_loss: 2.0003\n",
      "Epoch 20/50\n",
      "1440/1440 [==============================] - 16s 11ms/step - loss: 2.0481 - val_loss: 2.0185\n",
      "Epoch 21/50\n",
      "1440/1440 [==============================] - 16s 11ms/step - loss: 2.0461 - val_loss: 2.0105\n",
      "Epoch 22/50\n",
      "1440/1440 [==============================] - 15s 11ms/step - loss: 2.0443 - val_loss: 2.0139\n",
      "Epoch 23/50\n",
      "1440/1440 [==============================] - 16s 11ms/step - loss: 2.0414 - val_loss: 2.0092\n",
      "Epoch 24/50\n",
      "1440/1440 [==============================] - 16s 11ms/step - loss: 2.0395 - val_loss: 2.0205\n",
      "Epoch 25/50\n",
      "1440/1440 [==============================] - 16s 11ms/step - loss: 2.0353 - val_loss: 2.0125\n",
      "Epoch 26/50\n",
      "1440/1440 [==============================] - 16s 11ms/step - loss: 2.0342 - val_loss: 2.0191\n",
      "Epoch 27/50\n",
      "1440/1440 [==============================] - 16s 11ms/step - loss: 2.0323 - val_loss: 2.0110\n",
      "Epoch 28/50\n",
      "1440/1440 [==============================] - 16s 11ms/step - loss: 2.0296 - val_loss: 2.0084\n",
      "Epoch 29/50\n",
      "1440/1440 [==============================] - 15s 11ms/step - loss: 2.0297 - val_loss: 2.0149\n",
      "Epoch 30/50\n",
      "1440/1440 [==============================] - 16s 11ms/step - loss: 2.0290 - val_loss: 2.0111\n",
      "Epoch 31/50\n",
      "1440/1440 [==============================] - 15s 11ms/step - loss: 2.0269 - val_loss: 2.0076\n",
      "Epoch 32/50\n",
      "1440/1440 [==============================] - 15s 11ms/step - loss: 2.0257 - val_loss: 2.0167\n",
      "Epoch 33/50\n",
      "1440/1440 [==============================] - 16s 11ms/step - loss: 2.0255 - val_loss: 2.0084\n",
      "Epoch 34/50\n",
      "1440/1440 [==============================] - 16s 11ms/step - loss: 2.0219 - val_loss: 2.0094\n",
      "Epoch 35/50\n",
      "1440/1440 [==============================] - 16s 11ms/step - loss: 2.0221 - val_loss: 2.0171\n",
      "Epoch 36/50\n",
      "1440/1440 [==============================] - 16s 11ms/step - loss: 2.0188 - val_loss: 2.0163\n",
      "Epoch 37/50\n",
      "1440/1440 [==============================] - 16s 11ms/step - loss: 2.0175 - val_loss: 2.0132\n",
      "Epoch 38/50\n",
      "1440/1440 [==============================] - 15s 11ms/step - loss: 2.0155 - val_loss: 2.0096\n",
      "Epoch 39/50\n",
      "1440/1440 [==============================] - 16s 11ms/step - loss: 2.0139 - val_loss: 2.0141\n",
      "Epoch 40/50\n",
      "1440/1440 [==============================] - 15s 11ms/step - loss: 2.0131 - val_loss: 2.0156\n",
      "Epoch 41/50\n",
      "1440/1440 [==============================] - 16s 11ms/step - loss: 2.0113 - val_loss: 2.0142\n",
      "Epoch 42/50\n",
      "1440/1440 [==============================] - 16s 11ms/step - loss: 2.0105 - val_loss: 2.0150\n",
      "Epoch 43/50\n",
      "1440/1440 [==============================] - 16s 11ms/step - loss: 2.0070 - val_loss: 2.0100\n",
      "Epoch 44/50\n",
      "1440/1440 [==============================] - 16s 11ms/step - loss: 2.0073 - val_loss: 1.9998\n",
      "Epoch 45/50\n",
      "1440/1440 [==============================] - 15s 11ms/step - loss: 2.0040 - val_loss: 2.0118\n",
      "Epoch 46/50\n",
      "1440/1440 [==============================] - 15s 11ms/step - loss: 2.0032 - val_loss: 2.0217\n",
      "Epoch 47/50\n",
      "1440/1440 [==============================] - 15s 11ms/step - loss: 2.0038 - val_loss: 2.0186\n",
      "Epoch 48/50\n",
      "1440/1440 [==============================] - 15s 11ms/step - loss: 2.0010 - val_loss: 2.0170\n",
      "Epoch 49/50\n",
      "1440/1440 [==============================] - 16s 11ms/step - loss: 1.9991 - val_loss: 2.0245\n",
      "Epoch 50/50\n",
      "1440/1440 [==============================] - 15s 11ms/step - loss: 1.9997 - val_loss: 2.0209\n"
     ]
    }
   ],
   "source": [
    "callbacks = [ ModelCheckpoint('best_weights.h5', save_best_only=True)]\n",
    "\n",
    "history = cfm.fit([train_df.user_id.values,train_df.song_id.values], train_df.frac_rating.values, epochs=50, validation_split=.1, verbose=1 ,batch_size = 1000 ,callbacks = callbacks)"
   ]
  },
  {
   "cell_type": "code",
   "execution_count": 24,
   "metadata": {
    "colab": {
     "base_uri": "https://localhost:8080/",
     "height": 1000
    },
    "colab_type": "code",
    "id": "9RumT9-uxs8T",
    "outputId": "106bfe8f-4159-4795-ffc3-6bafa6805341"
   },
   "outputs": [
    {
     "data": {
      "text/plain": [
       "{'loss': [2.6937780380249023,\n",
       "  2.318911552429199,\n",
       "  2.2259106636047363,\n",
       "  2.181952476501465,\n",
       "  2.1504766941070557,\n",
       "  2.1283934116363525,\n",
       "  2.112867832183838,\n",
       "  2.1018495559692383,\n",
       "  2.091925621032715,\n",
       "  2.0858914852142334,\n",
       "  2.0807316303253174,\n",
       "  2.074564218521118,\n",
       "  2.0675158500671387,\n",
       "  2.0636067390441895,\n",
       "  2.061347246170044,\n",
       "  2.0583252906799316,\n",
       "  2.0534634590148926,\n",
       "  2.0538220405578613,\n",
       "  2.051884651184082,\n",
       "  2.0481016635894775,\n",
       "  2.046128749847412,\n",
       "  2.044341564178467,\n",
       "  2.041382074356079,\n",
       "  2.039506196975708,\n",
       "  2.0352590084075928,\n",
       "  2.0341548919677734,\n",
       "  2.0322978496551514,\n",
       "  2.0296425819396973,\n",
       "  2.0297207832336426,\n",
       "  2.028974771499634,\n",
       "  2.0268666744232178,\n",
       "  2.025714874267578,\n",
       "  2.025498151779175,\n",
       "  2.0219359397888184,\n",
       "  2.022129774093628,\n",
       "  2.0188443660736084,\n",
       "  2.017533302307129,\n",
       "  2.015467882156372,\n",
       "  2.013873815536499,\n",
       "  2.0130579471588135,\n",
       "  2.0113284587860107,\n",
       "  2.01054048538208,\n",
       "  2.0070114135742188,\n",
       "  2.007312774658203,\n",
       "  2.0039727687835693,\n",
       "  2.0032079219818115,\n",
       "  2.0038185119628906,\n",
       "  2.000966787338257,\n",
       "  1.9991374015808105,\n",
       "  1.99968683719635],\n",
       " 'val_loss': [2.2549006938934326,\n",
       "  2.151820659637451,\n",
       "  2.1111817359924316,\n",
       "  2.0770859718322754,\n",
       "  2.0594348907470703,\n",
       "  2.0421411991119385,\n",
       "  2.0448503494262695,\n",
       "  2.027320384979248,\n",
       "  2.026643753051758,\n",
       "  2.037093162536621,\n",
       "  2.0191805362701416,\n",
       "  2.030883312225342,\n",
       "  2.0134949684143066,\n",
       "  2.0163955688476562,\n",
       "  2.0134761333465576,\n",
       "  2.0145702362060547,\n",
       "  2.014502763748169,\n",
       "  2.0154435634613037,\n",
       "  2.00032114982605,\n",
       "  2.0184645652770996,\n",
       "  2.0105490684509277,\n",
       "  2.0139267444610596,\n",
       "  2.009206771850586,\n",
       "  2.020491361618042,\n",
       "  2.0124831199645996,\n",
       "  2.019115686416626,\n",
       "  2.010985851287842,\n",
       "  2.008437156677246,\n",
       "  2.0148539543151855,\n",
       "  2.0110926628112793,\n",
       "  2.007572650909424,\n",
       "  2.0167179107666016,\n",
       "  2.0084195137023926,\n",
       "  2.009437084197998,\n",
       "  2.0170724391937256,\n",
       "  2.016303539276123,\n",
       "  2.0131664276123047,\n",
       "  2.00958251953125,\n",
       "  2.0140700340270996,\n",
       "  2.015556812286377,\n",
       "  2.0141587257385254,\n",
       "  2.015040397644043,\n",
       "  2.0099668502807617,\n",
       "  1.9998241662979126,\n",
       "  2.01179838180542,\n",
       "  2.021705150604248,\n",
       "  2.0186359882354736,\n",
       "  2.0169763565063477,\n",
       "  2.024527072906494,\n",
       "  2.0209007263183594]}"
      ]
     },
     "execution_count": 24,
     "metadata": {
      "tags": []
     },
     "output_type": "execute_result"
    }
   ],
   "source": [
    "history.history"
   ]
  },
  {
   "cell_type": "code",
   "execution_count": 25,
   "metadata": {
    "colab": {
     "base_uri": "https://localhost:8080/",
     "height": 283
    },
    "colab_type": "code",
    "id": "A5GIxvvGxs8W",
    "outputId": "b50ee64f-0837-48dc-b7de-fa4f135547a5"
   },
   "outputs": [
    {
     "data": {
      "text/plain": [
       "[<matplotlib.lines.Line2D at 0x7ff3e05769b0>]"
      ]
     },
     "execution_count": 25,
     "metadata": {
      "tags": []
     },
     "output_type": "execute_result"
    },
    {
     "data": {
      "image/png": "[encoded data removed]",
      "text/plain": [
       "<Figure size 432x288 with 1 Axes>"
      ]
     },
     "metadata": {
      "needs_background": "light",
      "tags": []
     },
     "output_type": "display_data"
    }
   ],
   "source": [
    "\n",
    "plt.figure()\n",
    "plt.plot(history.history['loss'],'b-')\n",
    "plt.plot(history.history['val_loss'],'r-')"
   ]
  },
  {
   "cell_type": "markdown",
   "metadata": {
    "colab": {},
    "colab_type": "code",
    "id": "uMwqC_UKxVR2"
   },
   "source": [
    "# Testing and evaluating"
   ]
  },
  {
   "cell_type": "code",
   "execution_count": 0,
   "metadata": {
    "colab": {},
    "colab_type": "code",
    "id": "nKUDRCuVid2a"
   },
   "outputs": [],
   "source": [
    "best_cfm = CFmodel(u_users.shape[0],u_songs.shape[0])\n",
    "best_cfm.load_weights('best_weights.h5')\n",
    "\n"
   ]
  },
  {
   "cell_type": "code",
   "execution_count": 27,
   "metadata": {
    "colab": {
     "base_uri": "https://localhost:8080/",
     "height": 53
    },
    "colab_type": "code",
    "id": "-CX3wVsMxs8Y",
    "outputId": "cf7328d3-7d81-47b2-cef2-8b5ba50447f9"
   },
   "outputs": [
    {
     "name": "stdout",
     "output_type": "stream",
     "text": [
      "12500/12500 [==============================] - 24s 2ms/step - loss: 2.0473\n"
     ]
    },
    {
     "data": {
      "text/plain": [
       "2.047314167022705"
      ]
     },
     "execution_count": 27,
     "metadata": {
      "tags": []
     },
     "output_type": "execute_result"
    }
   ],
   "source": [
    "cfm.evaluate([test_df.user_id.values,test_df.song_id.values], test_df.frac_rating.values,verbose = 1)"
   ]
  },
  {
   "cell_type": "code",
   "execution_count": 28,
   "metadata": {
    "colab": {
     "base_uri": "https://localhost:8080/",
     "height": 161
    },
    "colab_type": "code",
    "id": "DlDWUtJDxs8b",
    "outputId": "e505edc9-0ee6-4373-941a-59a9f482c6b1"
   },
   "outputs": [
    {
     "name": "stdout",
     "output_type": "stream",
     "text": [
      "[0.95334893] 5.844845908607864\n",
      "[9.424892] 3.6363636363636362\n",
      "[0.3076262] 0.5208333333333333\n",
      "[0.02259376] 0.38022813688212925\n",
      "[3.927102] 4.166666666666666\n",
      "[0.71317905] 0.4830917874396135\n",
      "[0.6294554] 0.3389830508474576\n"
     ]
    },
    {
     "data": {
      "text/plain": [
       "[None, None, None, None, None, None, None]"
      ]
     },
     "execution_count": 28,
     "metadata": {
      "tags": []
     },
     "output_type": "execute_result"
    }
   ],
   "source": [
    "preds = best_cfm.predict([test_df.user_id.head(7).values,test_df.song_id.head(7).values])\n",
    "\n",
    "\n",
    "[print(preds[i],test_df.frac_rating.head(7).values[i]) for i in range(7)]"
   ]
  },
  {
   "cell_type": "code",
   "execution_count": 0,
   "metadata": {
    "colab": {},
    "colab_type": "code",
    "id": "YudwQHlLVnH0"
   },
   "outputs": [],
   "source": [
    "song_emb = best_cfm.get_layer('song-emb')\n",
    "\n",
    "song_emb_weights = song_emb.get_weights()[0]\n",
    "\n"
   ]
  },
  {
   "cell_type": "code",
   "execution_count": 30,
   "metadata": {
    "colab": {
     "base_uri": "https://localhost:8080/",
     "height": 35
    },
    "colab_type": "code",
    "id": "XNgB1tn9dcE5",
    "outputId": "5a6bb1ff-60cb-4090-b067-80fb72a03deb"
   },
   "outputs": [
    {
     "data": {
      "text/plain": [
       "(10000, 150)"
      ]
     },
     "execution_count": 30,
     "metadata": {
      "tags": []
     },
     "output_type": "execute_result"
    }
   ],
   "source": [
    "song_emb_weights.shape"
   ]
  },
  {
   "cell_type": "code",
   "execution_count": 31,
   "metadata": {
    "colab": {
     "base_uri": "https://localhost:8080/",
     "height": 305
    },
    "colab_type": "code",
    "id": "vQidiI4bd6HU",
    "outputId": "88687ace-96ce-41e9-e540-f284acc042eb"
   },
   "outputs": [
    {
     "name": "stdout",
     "output_type": "stream",
     "text": [
      "[t-SNE] Computing 271 nearest neighbors...\n",
      "[t-SNE] Indexed 10000 samples in 0.194s...\n",
      "[t-SNE] Computed neighbors for 10000 samples in 31.178s...\n",
      "[t-SNE] Computed conditional probabilities for sample 1000 / 10000\n",
      "[t-SNE] Computed conditional probabilities for sample 2000 / 10000\n",
      "[t-SNE] Computed conditional probabilities for sample 3000 / 10000\n",
      "[t-SNE] Computed conditional probabilities for sample 4000 / 10000\n",
      "[t-SNE] Computed conditional probabilities for sample 5000 / 10000\n",
      "[t-SNE] Computed conditional probabilities for sample 6000 / 10000\n",
      "[t-SNE] Computed conditional probabilities for sample 7000 / 10000\n",
      "[t-SNE] Computed conditional probabilities for sample 8000 / 10000\n",
      "[t-SNE] Computed conditional probabilities for sample 9000 / 10000\n",
      "[t-SNE] Computed conditional probabilities for sample 10000 / 10000\n",
      "[t-SNE] Mean sigma: 0.184744\n",
      "[t-SNE] KL divergence after 250 iterations with early exaggeration: 79.781578\n",
      "[t-SNE] KL divergence after 1000 iterations: 2.772605\n"
     ]
    }
   ],
   "source": [
    "from sklearn.manifold import TSNE\n",
    "\n",
    "tsne = TSNE(n_components = 2,verbose = 1,perplexity = 90)\n",
    "dimr_song_emb = tsne.fit_transform(song_emb_weights)\n"
   ]
  },
  {
   "cell_type": "code",
   "execution_count": 32,
   "metadata": {
    "colab": {
     "base_uri": "https://localhost:8080/",
     "height": 345
    },
    "colab_type": "code",
    "id": "FIVIDaUmfl3j",
    "outputId": "0b652ac3-0ea5-44b2-edcf-ed674d805393"
   },
   "outputs": [
    {
     "name": "stderr",
     "output_type": "stream",
     "text": [
      "/usr/local/lib/python3.6/dist-packages/statsmodels/tools/_testing.py:19: FutureWarning: pandas.util.testing is deprecated. Use the functions in the public API at pandas.testing instead.\n",
      "  import pandas.util.testing as tm\n"
     ]
    },
    {
     "data": {
      "text/plain": [
       "<matplotlib.axes._subplots.AxesSubplot at 0x7ff3791c40f0>"
      ]
     },
     "execution_count": 32,
     "metadata": {
      "tags": []
     },
     "output_type": "execute_result"
    },
    {
     "data": {
      "image/png": "[encoded data removed]",
      "text/plain": [
       "<Figure size 432x288 with 1 Axes>"
      ]
     },
     "metadata": {
      "tags": []
     },
     "output_type": "display_data"
    }
   ],
   "source": [
    "import seaborn as sns\n",
    "\n",
    "sns.set()\n",
    "\n",
    "sns.scatterplot(dimr_song_emb[:,0],dimr_song_emb[:,1])"
   ]
  },
  {
   "cell_type": "markdown",
   "metadata": {
    "colab": {},
    "colab_type": "code",
    "id": "1nPXz03Q2KkI"
   },
   "source": [
    "# Recommendation"
   ]
  },
  {
   "cell_type": "code",
   "execution_count": 39,
   "metadata": {
    "colab": {},
    "colab_type": "code",
    "id": "o1k74pMD2Kr3"
   },
   "outputs": [],
   "source": [
    "def recommend(user_idr = 1):\n",
    "\n",
    "  cfmodel = CFmodel(u_users.shape[0],u_songs.shape[0])\n",
    "  cfmodel.load_weights('best_weights.h5')\n",
    "\n",
    "  userr = np.ones(u_songs.shape,dtype = np.int)*user_idr \n",
    "  preds_t = cfmodel.predict([userr,u_songs_t])\n",
    "  \n",
    "  preds_t = preds_t.flatten()\n",
    "  \n",
    "  song_df = pd.DataFrame(data = {'song_id' : u_songs,'score' : preds_t })\n",
    "  song_df = pd.merge(song_df,songs_list,how = 'left' )\n",
    "  \n",
    "  song_df = song_df.sort_values(by = 'score',ascending = False)\n",
    "  display(song_df[['title','artist_name','year','score']].head(10))"
   ]
  },
  {
   "cell_type": "code",
   "execution_count": 42,
   "metadata": {
    "colab": {
     "base_uri": "https://localhost:8080/",
     "height": 355
    },
    "colab_type": "code",
    "id": "WkuRQMIF98P3",
    "outputId": "0b379521-7347-42ab-e6a5-46d24a6e829f"
   },
   "outputs": [
    {
     "data": {
      "text/html": [
       "<div>\n",
       "<style scoped>\n",
       "    .dataframe tbody tr th:only-of-type {\n",
       "        vertical-align: middle;\n",
       "    }\n",
       "\n",
       "    .dataframe tbody tr th {\n",
       "        vertical-align: top;\n",
       "    }\n",
       "\n",
       "    .dataframe thead th {\n",
       "        text-align: right;\n",
       "    }\n",
       "</style>\n",
       "<table border=\"1\" class=\"dataframe\">\n",
       "  <thead>\n",
       "    <tr style=\"text-align: right;\">\n",
       "      <th></th>\n",
       "      <th>title</th>\n",
       "      <th>artist_name</th>\n",
       "      <th>year</th>\n",
       "      <th>score</th>\n",
       "    </tr>\n",
       "  </thead>\n",
       "  <tbody>\n",
       "    <tr>\n",
       "      <th>5062</th>\n",
       "      <td>Working With Homesick</td>\n",
       "      <td>Homesick James</td>\n",
       "      <td>1991</td>\n",
       "      <td>8.703229</td>\n",
       "    </tr>\n",
       "    <tr>\n",
       "      <th>6232</th>\n",
       "      <td>221</td>\n",
       "      <td>keller williams</td>\n",
       "      <td>1998</td>\n",
       "      <td>7.990787</td>\n",
       "    </tr>\n",
       "    <tr>\n",
       "      <th>5898</th>\n",
       "      <td>Encore Break</td>\n",
       "      <td>Pearl Jam</td>\n",
       "      <td>2009</td>\n",
       "      <td>7.017760</td>\n",
       "    </tr>\n",
       "    <tr>\n",
       "      <th>3283</th>\n",
       "      <td>Clara meets Slope - Hard To Say</td>\n",
       "      <td>Clara Hill</td>\n",
       "      <td>2006</td>\n",
       "      <td>6.804315</td>\n",
       "    </tr>\n",
       "    <tr>\n",
       "      <th>8377</th>\n",
       "      <td>In League With Satan</td>\n",
       "      <td>Krisiun</td>\n",
       "      <td>2003</td>\n",
       "      <td>6.183194</td>\n",
       "    </tr>\n",
       "    <tr>\n",
       "      <th>1607</th>\n",
       "      <td>I C Love Affair</td>\n",
       "      <td>Gaz Nevada</td>\n",
       "      <td>0</td>\n",
       "      <td>5.931073</td>\n",
       "    </tr>\n",
       "    <tr>\n",
       "      <th>8902</th>\n",
       "      <td>Cold Blooded (Acid Cleanse)</td>\n",
       "      <td>The fFormula</td>\n",
       "      <td>0</td>\n",
       "      <td>5.771495</td>\n",
       "    </tr>\n",
       "    <tr>\n",
       "      <th>3285</th>\n",
       "      <td>Recado Falado (Metrô Da Saudade)</td>\n",
       "      <td>Alceu Valença</td>\n",
       "      <td>0</td>\n",
       "      <td>5.694852</td>\n",
       "    </tr>\n",
       "    <tr>\n",
       "      <th>8622</th>\n",
       "      <td>MIC (Speak Life Album Version)</td>\n",
       "      <td>Sev Statik</td>\n",
       "      <td>0</td>\n",
       "      <td>5.682236</td>\n",
       "    </tr>\n",
       "    <tr>\n",
       "      <th>4279</th>\n",
       "      <td>Bros Sto Rimagmeno Spiti (2003 Digital Remaster)</td>\n",
       "      <td>George Dalaras</td>\n",
       "      <td>0</td>\n",
       "      <td>5.394083</td>\n",
       "    </tr>\n",
       "  </tbody>\n",
       "</table>\n",
       "</div>"
      ],
      "text/plain": [
       "                                                 title      artist_name  year  \\\n",
       "5062                             Working With Homesick   Homesick James  1991   \n",
       "6232                                               221  keller williams  1998   \n",
       "5898                                      Encore Break        Pearl Jam  2009   \n",
       "3283                   Clara meets Slope - Hard To Say       Clara Hill  2006   \n",
       "8377                              In League With Satan          Krisiun  2003   \n",
       "1607                                   I C Love Affair       Gaz Nevada     0   \n",
       "8902                       Cold Blooded (Acid Cleanse)     The fFormula     0   \n",
       "3285                  Recado Falado (Metrô Da Saudade)    Alceu Valença     0   \n",
       "8622                    MIC (Speak Life Album Version)       Sev Statik     0   \n",
       "4279  Bros Sto Rimagmeno Spiti (2003 Digital Remaster)   George Dalaras     0   \n",
       "\n",
       "         score  \n",
       "5062  8.703229  \n",
       "6232  7.990787  \n",
       "5898  7.017760  \n",
       "3283  6.804315  \n",
       "8377  6.183194  \n",
       "1607  5.931073  \n",
       "8902  5.771495  \n",
       "3285  5.694852  \n",
       "8622  5.682236  \n",
       "4279  5.394083  "
      ]
     },
     "metadata": {},
     "output_type": "display_data"
    }
   ],
   "source": [
    "recommend(7876)"
   ]
  }
 ],
 "metadata": {
  "accelerator": "GPU",
  "colab": {
   "collapsed_sections": [],
   "name": "rec sys 2.ipynb",
   "provenance": [],
   "toc_visible": true
  },
  "kernelspec": {
   "display_name": "Python 3",
   "language": "python",
   "name": "python3"
  },
  "language_info": {
   "codemirror_mode": {
    "name": "ipython",
    "version": 3
   },
   "file_extension": ".py",
   "mimetype": "text/x-python",
   "name": "python",
   "nbconvert_exporter": "python",
   "pygments_lexer": "ipython3",
   "version": "3.7.7"
  }
 },
 "nbformat": 4,
 "nbformat_minor": 1
}
